{
 "cells": [
  {
   "cell_type": "code",
   "execution_count": null,
   "id": "aab49754-7b6b-479d-aa49-ae2564199337",
   "metadata": {},
   "outputs": [],
   "source": [
    "from moralization.data_manager import DataManager\n"
   ]
  },
  {
   "cell_type": "code",
   "execution_count": null,
   "id": "6dd492be-76d4-4c29-bdbe-c1930bafcccf",
   "metadata": {},
   "outputs": [],
   "source": [
    "data_manager = DataManager(\"./../moralization/data/\")\n"
   ]
  },
  {
   "cell_type": "code",
   "execution_count": null,
   "id": "28713314-3b79-4f7f-85b3-a275b93c0cea",
   "metadata": {},
   "outputs": [],
   "source": [
    "# data_manager.return_analyzer_result(\"frequency\")\n"
   ]
  },
  {
   "cell_type": "code",
   "execution_count": null,
   "id": "8f7e9817-567b-4aa9-8564-19cbe44a4a2b",
   "metadata": {},
   "outputs": [],
   "source": [
    "# data_manager.return_analyzer_result(\"length\")"
   ]
  },
  {
   "cell_type": "code",
   "execution_count": null,
   "id": "c44a00f8-e9a3-4483-98aa-6ee52ce12a11",
   "metadata": {},
   "outputs": [],
   "source": [
    "# data_manager.return_analyzer_result(\"span_distinctiveness\")\n"
   ]
  },
  {
   "cell_type": "code",
   "execution_count": null,
   "id": "24d97537-4021-4463-b18b-ee2794caefb6",
   "metadata": {},
   "outputs": [],
   "source": [
    "# data_manager.return_analyzer_result(\"boundary_distinctiveness\")\n"
   ]
  },
  {
   "cell_type": "code",
   "execution_count": null,
   "id": "e56a9441-d91f-4c75-b142-c524035798a1",
   "metadata": {},
   "outputs": [],
   "source": [
    "# data_manager.occurence_analysis(\"table\")"
   ]
  },
  {
   "cell_type": "code",
   "execution_count": null,
   "id": "639dc84b-da98-4cb7-bfba-17f5969ce2d6",
   "metadata": {},
   "outputs": [],
   "source": [
    "# data_manager.occurence_analysis(\"corr\")"
   ]
  },
  {
   "cell_type": "code",
   "execution_count": null,
   "id": "feea919c-e863-4dd2-be0f-bdc5d7a16b30",
   "metadata": {},
   "outputs": [],
   "source": [
    "# data_manager.occurence_analysis(\"heatmap\")"
   ]
  },
  {
   "cell_type": "code",
   "execution_count": null,
   "id": "8ea0758c-1e42-47f7-b7ed-041b5f49900f",
   "metadata": {},
   "outputs": [],
   "source": [
    "# data_manager.interactive_analysis().show()"
   ]
  },
  {
   "cell_type": "code",
   "execution_count": null,
   "id": "1d3448d7-f654-415c-9899-e6263c0a2011",
   "metadata": {},
   "outputs": [],
   "source": [
    "# data_manager.visualize_data(\"all\", spans_key=\"task1\")"
   ]
  },
  {
   "cell_type": "code",
   "execution_count": null,
   "id": "e16c8603-0fba-4fd2-a52b-c3c6a15069c6",
   "metadata": {},
   "outputs": [],
   "source": [
    "# data_manager.export_data_DocBin()"
   ]
  },
  {
   "cell_type": "code",
   "execution_count": null,
   "id": "8c2b1049-47d7-4112-8e4b-96b0cc32f856",
   "metadata": {},
   "outputs": [],
   "source": [
    "# data_manager.spacy_train(working_dir = \".\", config=\"../data/Training/config_dev.cfg\", n_epochs = 20)\n",
    "# data_manager.import_spacy_model(\"./output/model-best\")"
   ]
  },
  {
   "cell_type": "code",
   "execution_count": null,
   "id": "588c67e5-db00-4700-9d63-e80a802b5c46",
   "metadata": {},
   "outputs": [],
   "source": [
    "# data_manager.spacy_validation()"
   ]
  },
  {
   "cell_type": "code",
   "execution_count": null,
   "id": "9fe7ffc1-a45d-4d0d-bc35-d6d30a22942a",
   "metadata": {},
   "outputs": [],
   "source": [
    "# data_manager.spacy_test_string(\"Dies ist ein toller test\")"
   ]
  },
  {
   "cell_type": "code",
   "execution_count": null,
   "id": "e3747d4d-66ec-45e0-8d78-4f931ffe09e6",
   "metadata": {},
   "outputs": [],
   "source": []
  }
 ],
 "metadata": {
  "kernelspec": {
   "display_name": "Python 3 (ipykernel)",
   "language": "python",
   "name": "python3"
  },
  "language_info": {
   "codemirror_mode": {
    "name": "ipython",
    "version": 3
   },
   "file_extension": ".py",
   "mimetype": "text/x-python",
   "name": "python",
   "nbconvert_exporter": "python",
   "pygments_lexer": "ipython3",
   "version": "3.8.13"
  }
 },
 "nbformat": 4,
 "nbformat_minor": 5
}
