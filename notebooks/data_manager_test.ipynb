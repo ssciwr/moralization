{
 "cells": [
  {
   "cell_type": "code",
   "execution_count": null,
   "id": "65049175",
   "metadata": {},
   "outputs": [],
   "source": [
    "from moralization.data_manager import DataManager"
   ]
  },
  {
   "cell_type": "code",
   "execution_count": null,
   "id": "6dd492be-76d4-4c29-bdbe-c1930bafcccf",
   "metadata": {},
   "outputs": [],
   "source": [
    "# train on small dataset\n",
    "data_manager = DataManager(\"/content/data/Test_Data/XMI_11\")\n",
    "# train on full dataset\n",
    "# data_manager = DataManager(\"/content/data/All_Data/XMI_11\")"
   ]
  },
  {
   "cell_type": "code",
   "execution_count": null,
   "id": "28713314-3b79-4f7f-85b3-a275b93c0cea",
   "metadata": {},
   "outputs": [],
   "source": [
    "data_manager.return_analyzer_result(\"frequency\")"
   ]
  },
  {
   "cell_type": "code",
   "execution_count": null,
   "id": "8f7e9817-567b-4aa9-8564-19cbe44a4a2b",
   "metadata": {},
   "outputs": [],
   "source": [
    "data_manager.return_analyzer_result(\"length\")"
   ]
  },
  {
   "cell_type": "code",
   "execution_count": null,
   "id": "c44a00f8-e9a3-4483-98aa-6ee52ce12a11",
   "metadata": {},
   "outputs": [],
   "source": [
    "data_manager.return_analyzer_result(\"span_distinctiveness\")"
   ]
  },
  {
   "cell_type": "code",
   "execution_count": null,
   "id": "24d97537-4021-4463-b18b-ee2794caefb6",
   "metadata": {},
   "outputs": [],
   "source": [
    "data_manager.return_analyzer_result(\"boundary_distinctiveness\")"
   ]
  },
  {
   "cell_type": "code",
   "execution_count": null,
   "id": "e56a9441-d91f-4c75-b142-c524035798a1",
   "metadata": {},
   "outputs": [],
   "source": [
    "data_manager.occurence_analysis(\"table\")"
   ]
  },
  {
   "cell_type": "code",
   "execution_count": null,
   "id": "639dc84b-da98-4cb7-bfba-17f5969ce2d6",
   "metadata": {},
   "outputs": [],
   "source": [
    "data_manager.occurence_analysis(\"corr\")"
   ]
  },
  {
   "cell_type": "code",
   "execution_count": null,
   "id": "feea919c-e863-4dd2-be0f-bdc5d7a16b30",
   "metadata": {},
   "outputs": [],
   "source": [
    "data_manager.occurence_analysis(\"heatmap\")"
   ]
  },
  {
   "cell_type": "code",
   "execution_count": null,
   "id": "1d3448d7-f654-415c-9899-e6263c0a2011",
   "metadata": {},
   "outputs": [],
   "source": [
    "data_manager.visualize_data(\"all\", spans_key=\"task1\")"
   ]
  },
  {
   "cell_type": "code",
   "execution_count": null,
   "id": "e16c8603-0fba-4fd2-a52b-c3c6a15069c6",
   "metadata": {},
   "outputs": [],
   "source": [
    "data_manager.export_data_DocBin()"
   ]
  }
 ],
 "metadata": {
  "kernelspec": {
   "display_name": "Python 3 (ipykernel)",
   "language": "python",
   "name": "python3"
  },
  "language_info": {
   "codemirror_mode": {
    "name": "ipython",
    "version": 3
   },
   "file_extension": ".py",
   "mimetype": "text/x-python",
   "name": "python",
   "nbconvert_exporter": "python",
   "pygments_lexer": "ipython3",
   "version": "3.9.0"
  }
 },
 "nbformat": 4,
 "nbformat_minor": 5
}
