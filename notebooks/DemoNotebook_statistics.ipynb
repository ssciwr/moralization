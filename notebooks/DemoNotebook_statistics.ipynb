{
 "cells": [
  {
   "cell_type": "markdown",
   "metadata": {},
   "source": [
    "# Demo notebook for statistical analysis\n",
    "SSC, September 2022\n",
    "\n",
    "This demonstrates usage of data analysis methods."
   ]
  },
  {
   "cell_type": "code",
   "execution_count": null,
   "metadata": {},
   "outputs": [],
   "source": [
    "# Please ignore this cell: extra install steps that are only executed when running the notebook on Google Colab\n",
    "# flake8-noqa-cell\n",
    "import os\n",
    "if 'google.colab' in str(get_ipython()) and not os.path.isdir('Test_Data'):\n",
    "    # we're running on colab and we haven't already downloaded the test data\n",
    "    # first install pinned version of setuptools (latest version doesn't seem to work with this package on colab)\n",
    "    !pip install setuptools==61 -qqq\n",
    "    # install the moralization package\n",
    "    !pip install git+https://github.com/ssciwr/moralization.git -qqq\n",
    "    # download test data sets\n",
    "    !wget https://github.com/ssciwr/moralization/archive/refs/heads/test_data.zip -q\n",
    "    !unzip -qq test_data.zip && mv -f moralization-test_data/*_Data . && rm -rf moralization-test_data test_data.zip"
   ]
  },
  {
   "cell_type": "code",
   "execution_count": null,
   "metadata": {},
   "outputs": [],
   "source": [
    "import moralization as mn\n",
    "\n",
    "# for plotting\n",
    "import matplotlib.pyplot as plt\n",
    "import seaborn as sns"
   ]
  },
  {
   "cell_type": "markdown",
   "metadata": {},
   "source": [
    "Read in the data."
   ]
  },
  {
   "cell_type": "code",
   "execution_count": null,
   "metadata": {},
   "outputs": [],
   "source": [
    "data_dict = mn.InputOutput.get_input_dir(\"Test_Data/XMI_11\")"
   ]
  },
  {
   "cell_type": "markdown",
   "metadata": {},
   "source": [
    "Report instances of occurence."
   ]
  },
  {
   "cell_type": "code",
   "execution_count": null,
   "metadata": {},
   "outputs": [],
   "source": [
    "# i would guess from here one can get the correlation table somehow.\n",
    "# just df.corr() yields unsatisfactory results..\n",
    "\n",
    "# these DataFrames can now easily be saved as a csv file.\n",
    "df_instances = mn.analyse.AnalyseOccurence(data_dict, mode=\"instances\").df\n",
    "df_instances.head(10)"
   ]
  },
  {
   "cell_type": "code",
   "execution_count": null,
   "metadata": {},
   "outputs": [],
   "source": [
    "# this df can now easily be filtered.\n",
    "df_instances.loc[\"KAT2Subjektive_Ausdrcke\"]"
   ]
  },
  {
   "cell_type": "markdown",
   "metadata": {},
   "source": [
    "Report the spans of the instances."
   ]
  },
  {
   "cell_type": "code",
   "execution_count": null,
   "metadata": {},
   "outputs": [],
   "source": [
    "df_spans = mn.analyse.AnalyseOccurence(data_dict, mode=\"spans\").df\n",
    "df_spans.head(10)"
   ]
  },
  {
   "cell_type": "markdown",
   "metadata": {},
   "source": [
    "Further exploratory analysis."
   ]
  },
  {
   "cell_type": "code",
   "execution_count": null,
   "metadata": {},
   "outputs": [],
   "source": [
    "mn.analyse.get_overlap_percent(\n",
    "    \"Forderer:in\",\n",
    "    \"Neutral\",\n",
    "    data_dict,\n",
    "    \"test_data-trimmed_version_of-Gerichtsurteile-neg-AW-neu-optimiert-BB\",\n",
    ")"
   ]
  },
  {
   "cell_type": "code",
   "execution_count": null,
   "metadata": {},
   "outputs": [],
   "source": [
    "df = mn.analyse.get_percent_matrix(\n",
    "    data_dict, \"test_data-trimmed_version_of-Gerichtsurteile-neg-AW-neu-optimiert-BB\"\n",
    ")\n",
    "plt.figure(figsize=(16, 16))\n",
    "ax = sns.heatmap(df, cmap=\"cividis\")"
   ]
  },
  {
   "cell_type": "code",
   "execution_count": null,
   "metadata": {},
   "outputs": [],
   "source": [
    "df_small = mn.analyse.get_percent_matrix(\n",
    "    data_dict,\n",
    "    \"test_data-trimmed_version_of-Gerichtsurteile-neg-AW-neu-optimiert-BB\",\n",
    "    [\n",
    "        \"Appell\",\n",
    "        \"Forderer:in\",\n",
    "        \"soziale Gruppe\",\n",
    "        \"Benefizient:in\",\n",
    "        \"Neutral\",\n",
    "        \"Institution\",\n",
    "    ],\n",
    ")\n",
    "plt.figure(figsize=(8, 8))\n",
    "ax = sns.heatmap(df_small, cmap=\"cividis\")"
   ]
  },
  {
   "cell_type": "code",
   "execution_count": null,
   "metadata": {},
   "outputs": [],
   "source": []
  },
  {
   "cell_type": "code",
   "execution_count": null,
   "metadata": {},
   "outputs": [],
   "source": []
  },
  {
   "cell_type": "code",
   "execution_count": null,
   "metadata": {},
   "outputs": [],
   "source": []
  },
  {
   "cell_type": "code",
   "execution_count": null,
   "metadata": {},
   "outputs": [],
   "source": []
  }
 ],
 "metadata": {
  "kernelspec": {
   "display_name": "Python 3 (ipykernel)",
   "language": "python",
   "name": "python3"
  },
  "language_info": {
   "codemirror_mode": {
    "name": "ipython",
    "version": 3
   },
   "file_extension": ".py",
   "mimetype": "text/x-python",
   "name": "python",
   "nbconvert_exporter": "python",
   "pygments_lexer": "ipython3",
   "version": "3.10.4"
  },
  "vscode": {
   "interpreter": {
    "hash": "be846fb15d6f26018fc3527a16ef28b97c4f46dea0d52ca2496bb2aeefa619ae"
   }
  }
 },
 "nbformat": 4,
 "nbformat_minor": 4
}
