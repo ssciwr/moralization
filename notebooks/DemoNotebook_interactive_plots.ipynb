{
 "cells": [
  {
   "cell_type": "markdown",
   "metadata": {
    "id": "-tIt14wg_KRi"
   },
   "source": [
    "# Demo notebook for interactive plotting and data analysis\n",
    "SSC, September 2022\n",
    "\n",
    "This demonstrates usage of the interactive plotting methods."
   ]
  },
  {
   "cell_type": "code",
   "execution_count": null,
   "metadata": {
    "id": "KYsdnNC0_KRl"
   },
   "outputs": [],
   "source": [
    "# Please ignore this cell: extra install steps that are only executed when running the notebook on Google Colab\n",
    "# flake8-noqa-cell\n",
    "import os\n",
    "if 'google.colab' in str(get_ipython()) and not os.path.isdir('Test_Data'):\n",
    "    # we're running on colab and we haven't already downloaded the test data\n",
    "    # first install pinned version of setuptools (latest version doesn't seem to work with this package on colab)\n",
    "    %pip install setuptools==61 -qqq\n",
    "    # install the moralization package\n",
    "    %pip install git+https://github.com/ssciwr/moralization.git -qqq\n",
    "      # download test data sets\n",
    "    !wget https://github.com/ssciwr/moralization/archive/refs/heads/test_data.zip -q\n",
    "    !mkdir -p data && unzip -qq test_data.zip && mv -f moralization-test_data/*_Data ./data/. && rm -rf moralization-test_data test_data.zip\n",
    "    !spacy download de_core_news_sm"
   ]
  },
  {
   "cell_type": "code",
   "execution_count": null,
   "metadata": {
    "id": "-kP-qezs_KRm"
   },
   "outputs": [],
   "source": [
    "from moralization import DataManager"
   ]
  },
  {
   "cell_type": "markdown",
   "metadata": {
    "jupyter": {
     "outputs_hidden": true
    },
    "tags": []
   },
   "source": [
    "# Import the data using the DataManager\n",
    "\n",
    "If you need more information about raised warnings run: <br>\n",
    "```import logging ``` <br>\n",
    "```logging.getLogger().setLevel(logging.DEBUG)```"
   ]
  },
  {
   "cell_type": "code",
   "execution_count": null,
   "metadata": {
    "id": "UhbDQncajYUt"
   },
   "outputs": [],
   "source": [
    "# analyse small dataset\n",
    "# data_manager = DataManager(\"/content/data/Test_Data/XMI_11\")\n",
    "\n",
    "# if you have data in a language different than German, you \n",
    "# can pass the selected language model for the corpus language \n",
    "# using the language_model keyword argument\n",
    "# for a selection of the models, see https://spacy.io/usage/models\n",
    "data_manager = DataManager(\"/content/data/Test_Data/XMI_11\", language_model=\"en_core_web_sm\")\n",
    "\n",
    "# analyse full dataset\n",
    "# data_manager = DataManager(\"/content/data/All_Data/XMI_11\") \n"
   ]
  },
  {
   "cell_type": "markdown",
   "metadata": {},
   "source": [
    "## Validate the quality of the data\n",
    "\n",
    "The integrity of the data is checked using the `check_data_integrity` method. This method will return `True` only when all categories passed the minimum requirements. Otherwise it will return `False`.\n",
    "\n",
    "To check the integrity of the data four categories are evaluated: `frequency`, `length`, `span_distinctiveness`, `boundary_distinctiveness`. It is based on the spaCy [span analyzer](https://github.com/ljvmiranda921/spacy-span-analyzer).\n",
    "\n",
    "- `Frequency` is the total number of spans for a span type in the dataset’s training corpus. Recommended minimum value: 50\n",
    "- `Relative frequency` is the percentage a certain category occupies. Recommended minimum value: 0.2\n",
    "- `Span distinctiveness` is a measure of how distinctive the text that comprises spans is compared to\n",
    "the overall text of the corpus. Recommended minimum value: 1\n",
    "- `Boundary distinctiveness` is a measure of how\n",
    "distinctive the starts and ends of spans are. Recommended minimum value: 1\n",
    "\n",
    "\n",
    "See https://www.romanklinger.de/publications/PapayKlingerPado2020.pdf page 3 for more information."
   ]
  },
  {
   "cell_type": "code",
   "execution_count": null,
   "metadata": {},
   "outputs": [],
   "source": [
    "result = data_manager.check_data_integrity()\n",
    "\n"
   ]
  },
  {
   "cell_type": "code",
   "execution_count": null,
   "metadata": {},
   "outputs": [],
   "source": [
    "print(\"Data passed the test?:\", result)"
   ]
  },
  {
   "cell_type": "markdown",
   "metadata": {},
   "source": [
    "This will tell you if some categories are exceptionally rare and therefore not reliable in both statistics and training."
   ]
  },
  {
   "cell_type": "markdown",
   "metadata": {},
   "source": [
    "# Analyse the data per paragraph (instance)\n",
    "Analysis of how often an annotation occurs per text source is carried out using `occurrence_analysis`. \n",
    "\n",
    "This function has three different modes:\n",
    "\n",
    "- `table`: Show which categories are present in which paragraph, sorted by filenames.\n",
    "- `corr`: Show the correlation of the occurrence of different categories within the same paragraph. This is based on the [pandas `corr` function](https://pandas.pydata.org/docs/reference/api/pandas.DataFrame.corr.html) and uses the Pearson correlation coefficient.\n",
    "- `heatmap`: A heatmap visualization of the correlation matrix `corr`.\n",
    "\n"
   ]
  },
  {
   "cell_type": "code",
   "execution_count": null,
   "metadata": {},
   "outputs": [],
   "source": [
    "occurence_table = data_manager.occurrence_analysis(_type=\"table\")\n",
    "occurence_table.head(3)"
   ]
  },
  {
   "cell_type": "markdown",
   "metadata": {},
   "source": [
    "To find examples of spans where specific categories are present you can use this code.\n",
    "Just change the filter condition to whatever you need."
   ]
  },
  {
   "cell_type": "code",
   "execution_count": null,
   "metadata": {},
   "outputs": [],
   "source": [
    "filter_conditions = [\n",
    "    (\"KAT1-Moralisierendes Segment\", \"Moralisierung explizit\"),\n",
    "    (\"KAT2-Moralwerte\", \"Care\"),\n",
    "]\n",
    "\n",
    "filtered_df = occurence_table.copy()\n",
    "for first_level, second_level in filter_conditions:\n",
    "    filtered_df = filtered_df.loc[filtered_df[(first_level, second_level)] == 1]\n",
    "filtered_df"
   ]
  },
  {
   "cell_type": "markdown",
   "metadata": {},
   "source": [
    "It can be provided as an occurence correlation:"
   ]
  },
  {
   "cell_type": "code",
   "execution_count": null,
   "metadata": {},
   "outputs": [],
   "source": [
    "correlation_df = data_manager.occurrence_analysis(_type=\"corr\")\n",
    "correlation_df.head(5)"
   ]
  },
  {
   "cell_type": "markdown",
   "metadata": {},
   "source": [
    "With the `heatmap` argument this function can be used to get a quick overview of the correlation matrix.\n",
    "\n",
    "For a more detailed look at the correlation heatmap please use `interactive_correlation_analysis` function that is explained at the end of the notebook."
   ]
  },
  {
   "cell_type": "code",
   "execution_count": null,
   "metadata": {},
   "outputs": [],
   "source": [
    "data_manager.occurrence_analysis(_type=\"heatmap\")"
   ]
  },
  {
   "cell_type": "markdown",
   "metadata": {},
   "source": [
    "The dataframes can also be exported as csv to perform further sorting."
   ]
  },
  {
   "cell_type": "code",
   "execution_count": null,
   "metadata": {},
   "outputs": [],
   "source": [
    "# for the general table\n",
    "df = data_manager.occurrence_analysis()\n",
    "df.to_csv(\"./table_occurrence.csv\")"
   ]
  },
  {
   "cell_type": "code",
   "execution_count": null,
   "metadata": {},
   "outputs": [],
   "source": [
    "# for the general table\n",
    "df = data_manager.occurrence_analysis(_type=\"corr\")\n",
    "df.to_csv(\"./table_correlation.csv\")"
   ]
  },
  {
   "cell_type": "markdown",
   "metadata": {},
   "source": [
    "If you do not want the full table but filter it for specific data files, you can do so by providing a `file_filter` keyword:"
   ]
  },
  {
   "cell_type": "code",
   "execution_count": null,
   "metadata": {},
   "outputs": [],
   "source": [
    "data_manager.occurrence_analysis(file_filter=\"test_data-trimmed_version_of-Gerichtsurteile-neg-AW-neu-optimiert-BB\")"
   ]
  },
  {
   "cell_type": "code",
   "execution_count": null,
   "metadata": {},
   "outputs": [],
   "source": [
    "data_manager.occurrence_analysis(_type=\"heatmap\", file_filter=\"test_data-trimmed_version_of-Gerichtsurteile-neg-AW-neu-optimiert-BB\")"
   ]
  },
  {
   "cell_type": "markdown",
   "metadata": {},
   "source": [
    "Likewise if you do not want the full correlation plot but filter it for specific categories, you can do so by providing a `cat_filter` keyword (only works for `type=heatmap`):"
   ]
  },
  {
   "cell_type": "code",
   "execution_count": null,
   "metadata": {},
   "outputs": [],
   "source": [
    "data_manager.occurrence_analysis(_type=\"heatmap\", cat_filter=\"KAT1-Moralisierendes Segment\")"
   ]
  },
  {
   "cell_type": "markdown",
   "metadata": {},
   "source": [
    "# Analyze the dataset as a whole\n",
    "You can also analyse the data using the spacy [span analyzer](https://github.com/ljvmiranda921/spacy-span-analyzer). The modes can be selected as above: \n",
    "- `frequency` stands for the total frequency in the complete dataset;\n",
    "- `length` for the geometric mean of the spans' lengths in tokens in the complete dataset;\n",
    "- `span_distinctiveness` for distinctiveness of the span compared to the corpus. It measures how distinct the text comprising the spans is compared to the rest of the corpus. It is defined as the KL divergence D(P_span || P), where P is the unigram word distribution of the corpus, and P_span as the unigram distribution of tokens within the span. High values indicate that different words are used inside spans compared to the rest of the text, whereas low values indicate that the word distribution is similar inside and outside of spans. This property is positively correlated with model performance. Spans with high distinctiveness should be able to rely more heavily on local features, as each token carries information about span membership. Low span distrinctivess then calls for sequence information.\n",
    "- `boundary_distinctiveness` for distinctiveness of the boundaries compared to the corpus. Measures how distinctive the starts and ends of spans are. It is formalized as the KL-divergence D(P_bounds || P) where P is the unigram word distribution of the corpus, and P_bounds as the unigram distribution of the boundary tokens. This property is positively correlated with model performance. High values mean that the start and end points of spans are easy to spot, while low values indicate smooth transitions.\n",
    "- `all` will return all of the above as a dictionary.\n",
    "\n",
    "\n",
    "All of these metrics also also used in the `check_data_integrity` function at the top."
   ]
  },
  {
   "cell_type": "markdown",
   "metadata": {},
   "source": [
    "Show how often a given label is present in different categories.\n"
   ]
  },
  {
   "cell_type": "code",
   "execution_count": null,
   "metadata": {},
   "outputs": [],
   "source": [
    "data_manager.return_analyzer_result(result_type=\"frequency\")"
   ]
  },
  {
   "cell_type": "markdown",
   "metadata": {},
   "source": [
    "Show how long the spans are for different labels. \n"
   ]
  },
  {
   "cell_type": "code",
   "execution_count": null,
   "metadata": {},
   "outputs": [],
   "source": [
    "data_manager.return_analyzer_result(result_type=\"length\")"
   ]
  },
  {
   "cell_type": "markdown",
   "metadata": {},
   "source": [
    "Show the span distinctiveness for different labels. \n"
   ]
  },
  {
   "cell_type": "code",
   "execution_count": null,
   "metadata": {},
   "outputs": [],
   "source": [
    "data_manager.return_analyzer_result(result_type=\"span_distinctiveness\")"
   ]
  },
  {
   "cell_type": "markdown",
   "metadata": {},
   "source": [
    "Show the boundary distinctiveness for different labels. \n"
   ]
  },
  {
   "cell_type": "code",
   "execution_count": null,
   "metadata": {},
   "outputs": [],
   "source": [
    "data_manager.return_analyzer_result(result_type=\"boundary_distinctiveness\")"
   ]
  },
  {
   "cell_type": "code",
   "execution_count": null,
   "metadata": {},
   "outputs": [],
   "source": [
    "data_manager.return_analyzer_result(result_type=\"all\")"
   ]
  },
  {
   "cell_type": "markdown",
   "metadata": {},
   "source": [
    "Again, any of these can be exported as csv."
   ]
  },
  {
   "cell_type": "code",
   "execution_count": null,
   "metadata": {},
   "outputs": [],
   "source": [
    "df = data_manager.return_analyzer_result(result_type=\"boundary_distinctiveness\")\n",
    "df.to_csv(\"./boundary_distinctiveness.csv\")"
   ]
  },
  {
   "cell_type": "markdown",
   "metadata": {},
   "source": [
    "# Interactive data analysis"
   ]
  },
  {
   "cell_type": "markdown",
   "metadata": {},
   "source": [
    "Here is an example of the interactive data analysis tools we provide.\n",
    "\n",
    "Please note, that it can take a couple seconds on google colab to go from `loading` to the interface.<br>\n",
    "Once Dash shows that it is running on a port you can click the link to open the applet in a new tab."
   ]
  },
  {
   "cell_type": "markdown",
   "metadata": {},
   "source": [
    "`interactive_data_analysis` can be used to quickly get an overview over the `frequency`, `length`, `span_distinctiveness`, `boundary_distinctiveness` for the different categories. These results can also be numerically viewed with the `return_analyzer_result` function. See above.\n",
    "\n",
    "- Frequency is the number of spans for a span type in the dataset’s training corpus.\n",
    "- Span length is the geometric mean of spans’ lengths, in tokens.\n",
    "- Span distinctiveness is a measure of how distinctive the text that comprises spans is compared to\n",
    "the overall text of the corpus\n",
    "- Boundary distinctiveness is a measure of how\n",
    "distinctive the starts and ends of spans are.\n",
    "\n",
    "See https://www.romanklinger.de/publications/PapayKlingerPado2020.pdf page 3 for more information."
   ]
  },
  {
   "cell_type": "code",
   "execution_count": null,
   "metadata": {},
   "outputs": [],
   "source": [
    "data_manager.interactive_data_analysis(port=8058)"
   ]
  },
  {
   "cell_type": "markdown",
   "metadata": {},
   "source": [
    "Here one can visualize the heatmap of the different class correlations in a more simplistic overview. This includes precise filtering of which classes to show.\n",
    "\n",
    "This map also allows for zooming into specific regions.\n",
    "\n",
    "In the top right one can also export the picture."
   ]
  },
  {
   "cell_type": "code",
   "execution_count": null,
   "metadata": {},
   "outputs": [],
   "source": [
    "data_manager.interactive_correlation_analysis(port=8059)"
   ]
  },
  {
   "cell_type": "markdown",
   "metadata": {},
   "source": [
    "The next function might struggle on large datasets. </br>\n",
    "This function will show you the selected dataset with annotations. </br>\n",
    "Select `sc` to see all annotations."
   ]
  },
  {
   "cell_type": "code",
   "execution_count": null,
   "metadata": {},
   "outputs": [],
   "source": [
    "data_manager.interactive_data_visualization(port = 8065)"
   ]
  },
  {
   "cell_type": "code",
   "execution_count": null,
   "metadata": {},
   "outputs": [],
   "source": []
  },
  {
   "cell_type": "code",
   "execution_count": null,
   "metadata": {},
   "outputs": [],
   "source": []
  },
  {
   "cell_type": "code",
   "execution_count": null,
   "metadata": {},
   "outputs": [],
   "source": []
  }
 ],
 "metadata": {
  "colab": {
   "provenance": []
  },
  "kernelspec": {
   "display_name": "Python 3 (ipykernel)",
   "language": "python",
   "name": "python3"
  },
  "language_info": {
   "codemirror_mode": {
    "name": "ipython",
    "version": 3
   },
   "file_extension": ".py",
   "mimetype": "text/x-python",
   "name": "python",
   "nbconvert_exporter": "python",
   "pygments_lexer": "ipython3",
   "version": "3.8.13"
  },
  "vscode": {
   "interpreter": {
    "hash": "be846fb15d6f26018fc3527a16ef28b97c4f46dea0d52ca2496bb2aeefa619ae"
   }
  }
 },
 "nbformat": 4,
 "nbformat_minor": 4
}
