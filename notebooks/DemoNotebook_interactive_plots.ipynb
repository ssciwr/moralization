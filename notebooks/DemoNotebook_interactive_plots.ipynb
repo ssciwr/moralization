{
 "cells": [
  {
   "attachments": {},
   "cell_type": "markdown",
   "metadata": {
    "id": "-tIt14wg_KRi"
   },
   "source": [
    "# Demo notebook for interactive plotting and data analysis\n",
    "SSC, September 2022\n",
    "\n",
    "This demonstrates usage of the interactive plotting methods."
   ]
  },
  {
   "cell_type": "code",
   "execution_count": null,
   "metadata": {
    "id": "KYsdnNC0_KRl"
   },
   "outputs": [],
   "source": [
    "# Please ignore this cell: extra install steps that are only executed when running the notebook on Google Colab\n",
    "# flake8-noqa-cell\n",
    "import os\n",
    "if 'google.colab' in str(get_ipython()) and not os.path.isdir('Test_Data'):\n",
    "    # we're running on colab and we haven't already downloaded the test data\n",
    "    # first install pinned version of setuptools (latest version doesn't seem to work with this package on colab)\n",
    "    %pip install setuptools==61 -qqq\n",
    "    # install the moralization package\n",
    "    %pip install git+https://github.com/ssciwr/moralization.git -qqq\n",
    "      # download test data sets\n",
    "    !wget https://github.com/ssciwr/moralization/archive/refs/heads/test_data.zip -q\n",
    "    !mkdir -p data && unzip -qq test_data.zip && mv -f moralization-test_data/*_Data ./data/. && rm -rf moralization-test_data test_data.zip\n",
    "    !spacy download de_core_news_sm"
   ]
  },
  {
   "cell_type": "code",
   "execution_count": null,
   "metadata": {
    "id": "-kP-qezs_KRm"
   },
   "outputs": [],
   "source": [
    "from moralization import DataManager"
   ]
  },
  {
   "attachments": {},
   "cell_type": "markdown",
   "metadata": {
    "jupyter": {
     "outputs_hidden": true
    },
    "tags": []
   },
   "source": [
    "# Import the data using the DataManager\n",
    "\n",
    "If you need more information about raised warnings run: <br>\n",
    "```import logging ``` <br>\n",
    "```logging.getLogger().setLevel(logging.DEBUG)```"
   ]
  },
  {
   "cell_type": "code",
   "execution_count": null,
   "metadata": {
    "id": "UhbDQncajYUt"
   },
   "outputs": [],
   "source": [
    "# analyse small dataset\n",
    "data_manager = DataManager(\"/content/data/Test_Data/XMI_11\")\n",
    "# analyse full dataset\n",
    "# data_manager = DataManager(\"/content/data/All_Data/XMI_11\") "
   ]
  },
  {
   "attachments": {},
   "cell_type": "markdown",
   "metadata": {},
   "source": [
    "The integrity of the data is checked using the `check_data_integrity` method:\n",
    "\n",
    "To check the integrety of the data four categories are evaluated: `frequency`, `length`, `span_distinctiveness`, `boundary_distinctiveness` categories.\n",
    "\n",
    "- Frequency is the total number of spans for a span type in the dataset’s training corpus. Recommended minimum Value: 50\n",
    "- Relativ frequency is the percentage a certain category occupies. Recommended minimum Value = 0.2\n",
    "- Span distinctiveness is a measure of how distinctive the text that comprises spans is compared to\n",
    "the overall text of the corpus. Recommended minimum Value = 1\n",
    "- Boundary distinctiveness is a measure of how\n",
    "distinctive the starts and ends of spans are. Recommended minimum Value = 1\n",
    "\n",
    "\n",
    "See https://www.romanklinger.de/publications/PapayKlingerPado2020.pdf page 3 for more information."
   ]
  },
  {
   "cell_type": "code",
   "execution_count": null,
   "metadata": {},
   "outputs": [],
   "source": [
    "data_manager.check_data_integrity()"
   ]
  },
  {
   "attachments": {},
   "cell_type": "markdown",
   "metadata": {},
   "source": [
    "This will tell you if some categories are exceptionally rare and therefore not reliable in both statistics and training."
   ]
  },
  {
   "attachments": {},
   "cell_type": "markdown",
   "metadata": {},
   "source": [
    "# Data analysis\n",
    "Analysis of how often an annotation occurs per text source is carried out using `occurence_analysis`. \n",
    "\n",
    "This function has three different modes:\n",
    "\n",
    "- `table`: Show which categories are present in which paragraph, sorted by filenames.\n",
    "- `corr`: Show the correlation of the occurrence of different categories within the same paragraph.\n",
    "- `heatmap`: A heatmap visualization of the correlation matrix.\n",
    "\n"
   ]
  },
  {
   "cell_type": "code",
   "execution_count": null,
   "metadata": {},
   "outputs": [],
   "source": [
    "occurence_table = data_manager.occurence_analysis(_type=\"table\")\n",
    "occurence_table.head(3)"
   ]
  },
  {
   "attachments": {},
   "cell_type": "markdown",
   "metadata": {},
   "source": [
    "To find examples of spans where specific categories are present you can use this code.\n",
    "Just change the filter condition to whatever you need."
   ]
  },
  {
   "cell_type": "code",
   "execution_count": null,
   "metadata": {},
   "outputs": [],
   "source": [
    "filter_conditions = [\n",
    "    (\"KAT1-Moralisierendes Segment\", \"Moralisierung explizit\"),\n",
    "    (\"KAT2-Moralwerte\", \"Care\"),\n",
    "]\n",
    "\n",
    "filtered_df = occurence_table.copy()\n",
    "for first_level, second_level in filter_conditions:\n",
    "    filtered_df = filtered_df.loc[filtered_df[(first_level, second_level)] == 1]\n",
    "filtered_df"
   ]
  },
  {
   "attachments": {},
   "cell_type": "markdown",
   "metadata": {},
   "source": [
    "It can be provided as an occurence correlation:"
   ]
  },
  {
   "cell_type": "code",
   "execution_count": null,
   "metadata": {},
   "outputs": [],
   "source": [
    "correlation_df = data_manager.occurence_analysis(_type=\"corr\")\n",
    "correlation_df.head(5)"
   ]
  },
  {
   "attachments": {},
   "cell_type": "markdown",
   "metadata": {},
   "source": [
    "or as a heatmap:"
   ]
  },
  {
   "cell_type": "code",
   "execution_count": null,
   "metadata": {},
   "outputs": [],
   "source": [
    "data_manager.occurence_analysis(_type=\"heatmap\")"
   ]
  },
  {
   "attachments": {},
   "cell_type": "markdown",
   "metadata": {},
   "source": [
    "The dataframes can also be exported as csv to perform further sorting."
   ]
  },
  {
   "cell_type": "code",
   "execution_count": null,
   "metadata": {},
   "outputs": [],
   "source": [
    "# for the general table\n",
    "df = data_manager.occurence_analysis()\n",
    "df.to_csv(\"./table_occurence.csv\")"
   ]
  },
  {
   "cell_type": "code",
   "execution_count": null,
   "metadata": {},
   "outputs": [],
   "source": [
    "# for the general table\n",
    "df = data_manager.occurence_analysis(_type=\"corr\")\n",
    "df.to_csv(\"./table_correlation.csv\")"
   ]
  },
  {
   "attachments": {},
   "cell_type": "markdown",
   "metadata": {},
   "source": [
    "If you do not want the full table but filter it for specific data files, you can do so by providing a `file_filter` keyword:"
   ]
  },
  {
   "cell_type": "code",
   "execution_count": null,
   "metadata": {},
   "outputs": [],
   "source": [
    "data_manager.occurence_analysis(file_filter=\"test_data-trimmed_version_of-Gerichtsurteile-neg-AW-neu-optimiert-BB\")"
   ]
  },
  {
   "cell_type": "code",
   "execution_count": null,
   "metadata": {},
   "outputs": [],
   "source": [
    "data_manager.occurence_analysis(_type=\"heatmap\", file_filter=\"test_data-trimmed_version_of-Gerichtsurteile-neg-AW-neu-optimiert-BB\")"
   ]
  },
  {
   "attachments": {},
   "cell_type": "markdown",
   "metadata": {},
   "source": [
    "Likewise if you do not want the full correlation plot but filter it for specific categories, you can do so by providing a `cat_filter` keyword (only works for `type=heatmap`):"
   ]
  },
  {
   "cell_type": "code",
   "execution_count": null,
   "metadata": {},
   "outputs": [],
   "source": [
    "data_manager.occurence_analysis(_type=\"heatmap\", cat_filter=\"KAT1-Moralisierendes Segment\")"
   ]
  },
  {
   "attachments": {},
   "cell_type": "markdown",
   "metadata": {},
   "source": [
    "# Check the data\n",
    "You can also analyse the data uasing the spacy [span analyzer](https://github.com/ljvmiranda921/spacy-span-analyzer).\n",
    "\n",
    "More documentation here - Gwydion."
   ]
  },
  {
   "cell_type": "code",
   "execution_count": null,
   "metadata": {},
   "outputs": [],
   "source": [
    "data_manager.return_analyzer_result(result_type=\"frequency\")"
   ]
  },
  {
   "cell_type": "code",
   "execution_count": null,
   "metadata": {},
   "outputs": [],
   "source": [
    "data_manager.return_analyzer_result(result_type=\"length\")"
   ]
  },
  {
   "cell_type": "code",
   "execution_count": null,
   "metadata": {},
   "outputs": [],
   "source": [
    "data_manager.return_analyzer_result(result_type=\"span_distinctiveness\")"
   ]
  },
  {
   "cell_type": "code",
   "execution_count": null,
   "metadata": {},
   "outputs": [],
   "source": [
    "data_manager.return_analyzer_result(result_type=\"boundary_distinctiveness\")"
   ]
  },
  {
   "cell_type": "code",
   "execution_count": null,
   "metadata": {},
   "outputs": [],
   "source": [
    "data_manager.return_analyzer_result(result_type=\"all\")"
   ]
  },
  {
   "attachments": {},
   "cell_type": "markdown",
   "metadata": {},
   "source": [
    "Again, any of these can be exported as csv."
   ]
  },
  {
   "cell_type": "code",
   "execution_count": null,
   "metadata": {},
   "outputs": [],
   "source": [
    "df = data_manager.return_analyzer_result(result_type=\"boundary_distinctiveness\")\n",
    "df.to_csv(\"./boundary_distinctiveness.csv\")"
   ]
  },
  {
   "attachments": {},
   "cell_type": "markdown",
   "metadata": {},
   "source": [
    "# Interactive data analysis"
   ]
  },
  {
   "attachments": {},
   "cell_type": "markdown",
   "metadata": {},
   "source": [
    "Here is an example of the interactive data analysis tools we provide.\n",
    "\n",
    "please note, that it can take a couple seconds on google colab to go from `loading` to the interface.<br>\n",
    "Once Dash shows that it is running on a port you can click the link to open the applet in a new tab."
   ]
  },
  {
   "attachments": {},
   "cell_type": "markdown",
   "metadata": {},
   "source": [
    "`interactive_data_analysis` can be used to quickly get an overview over the `frequency`, `length`, `span_distinctiveness`, `boundary_distinctiveness` for the different categories.\n",
    "\n",
    "- Frequency is the number of spans for a span type in the dataset’s training corpus.\n",
    "- Span length is the geometric mean of spans’ lengths, in tokens.\n",
    "- Span distinctiveness is a measure of how distinctive the text that comprises spans is compared to\n",
    "the overall text of the corpus\n",
    "- Boundary distinctiveness is a measure of how\n",
    "distinctive the starts and ends of spans are.\n",
    "\n",
    "See https://www.romanklinger.de/publications/PapayKlingerPado2020.pdf page 3 for more information."
   ]
  },
  {
   "cell_type": "code",
   "execution_count": null,
   "metadata": {},
   "outputs": [],
   "source": [
    "data_manager.interactive_data_analysis()"
   ]
  },
  {
   "attachments": {},
   "cell_type": "markdown",
   "metadata": {},
   "source": [
    "A quick way to compare the "
   ]
  },
  {
   "cell_type": "code",
   "execution_count": null,
   "metadata": {},
   "outputs": [],
   "source": [
    "data_manager.interactive_correlation_analysis()"
   ]
  },
  {
   "attachments": {},
   "cell_type": "markdown",
   "metadata": {},
   "source": [
    "The next function might struggle on large datasets."
   ]
  },
  {
   "cell_type": "code",
   "execution_count": null,
   "metadata": {},
   "outputs": [],
   "source": [
    "data_manager.interactive_data_visualization()"
   ]
  }
 ],
 "metadata": {
  "colab": {
   "provenance": []
  },
  "kernelspec": {
   "display_name": "Python 3 (ipykernel)",
   "language": "python",
   "name": "python3"
  },
  "language_info": {
   "codemirror_mode": {
    "name": "ipython",
    "version": 3
   },
   "file_extension": ".py",
   "mimetype": "text/x-python",
   "name": "python",
   "nbconvert_exporter": "python",
   "pygments_lexer": "ipython3",
   "version": "3.8.13"
  },
  "vscode": {
   "interpreter": {
    "hash": "be846fb15d6f26018fc3527a16ef28b97c4f46dea0d52ca2496bb2aeefa619ae"
   }
  }
 },
 "nbformat": 4,
 "nbformat_minor": 4
}
