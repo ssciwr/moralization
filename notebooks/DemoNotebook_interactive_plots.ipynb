{
 "cells": [
  {
   "cell_type": "markdown",
   "metadata": {
    "id": "-tIt14wg_KRi"
   },
   "source": [
    "# Demo notebook for interactive plotting\n",
    "SSC, September 2022\n",
    "\n",
    "This demonstrates usage of the interactive plotting methods."
   ]
  },
  {
   "cell_type": "code",
   "execution_count": null,
   "metadata": {
    "id": "KYsdnNC0_KRl"
   },
   "outputs": [],
   "source": [
    "# Please ignore this cell: extra install steps that are only executed when running the notebook on Google Colab\n",
    "# flake8-noqa-cell\n",
    "import os\n",
    "if 'google.colab' in str(get_ipython()) and not os.path.isdir('Test_Data'):\n",
    "    # we're running on colab and we haven't already downloaded the test data\n",
    "    # first install pinned version of setuptools (latest version doesn't seem to work with this package on colab)\n",
    "    !pip install setuptools==61 -qqq\n",
    "    # install the moralization package\n",
    "    !pip install git+https://github.com/ssciwr/moralization.git -qqq\n",
    "    # download test data sets\n",
    "    !wget https://github.com/ssciwr/moralization/archive/refs/heads/test_data.zip -q\n",
    "    !unzip -qq test_data.zip && mv -f moralization-test_data/*_Data . && rm -rf moralization-test_data test_data.zip"
   ]
  },
  {
   "cell_type": "code",
   "execution_count": null,
   "metadata": {
    "id": "-kP-qezs_KRm"
   },
   "outputs": [],
   "source": [
    "import moralization as mn\n",
    "import moralization.plot as mnplot"
   ]
  },
  {
   "cell_type": "code",
   "execution_count": null,
   "metadata": {
    "id": "UhbDQncajYUt"
   },
   "outputs": [],
   "source": [
    "data_dict = mn.InputOutput.get_input_dir(\"All_Data/XMI_11\")"
   ]
  },
  {
   "cell_type": "code",
   "execution_count": null,
   "metadata": {
    "id": "UhbDQncajYUt"
   },
   "outputs": [],
   "source": [
    "heatmap = mnplot.InteractiveCategoryPlot(data_dict)"
   ]
  },
  {
   "cell_type": "code",
   "execution_count": null,
   "metadata": {
    "id": "UhbDQncajYUt"
   },
   "outputs": [],
   "source": [
    "heatmap.show()"
   ]
  },
  {
   "cell_type": "code",
   "execution_count": null,
   "metadata": {},
   "outputs": [],
   "source": []
  }
 ],
 "metadata": {
  "colab": {
   "provenance": []
  },
  "kernelspec": {
   "display_name": "Python 3 (ipykernel)",
   "language": "python",
   "name": "python3"
  },
  "language_info": {
   "codemirror_mode": {
    "name": "ipython",
    "version": 3
   },
   "file_extension": ".py",
   "mimetype": "text/x-python",
   "name": "python",
   "nbconvert_exporter": "python",
   "pygments_lexer": "ipython3",
   "version": "3.10.4"
  },
  "vscode": {
   "interpreter": {
    "hash": "be846fb15d6f26018fc3527a16ef28b97c4f46dea0d52ca2496bb2aeefa619ae"
   }
  }
 },
 "nbformat": 4,
 "nbformat_minor": 4
}
