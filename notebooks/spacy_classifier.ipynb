{
 "cells": [
  {
   "cell_type": "code",
   "execution_count": null,
   "metadata": {},
   "outputs": [],
   "source": [
    "import spacy\n",
    "from cassis import load_typesystem, load_cas_from_xmi"
   ]
  },
  {
   "cell_type": "code",
   "execution_count": null,
   "metadata": {},
   "outputs": [],
   "source": [
    "with open(\"TypeSystem.xml\", \"rb\") as f:\n",
    "    ts = load_typesystem(f)\n",
    "\n",
    "with open(\"test_text.xmi\", \"rb\") as f:\n",
    "    cas = load_cas_from_xmi(f, typesystem=ts)"
   ]
  },
  {
   "cell_type": "code",
   "execution_count": null,
   "metadata": {},
   "outputs": [],
   "source": [
    "custom_overlay_type = ts.get_type(\"webanno.custom.OverlayChunk\")"
   ]
  },
  {
   "cell_type": "code",
   "execution_count": null,
   "metadata": {},
   "outputs": [],
   "source": [
    "sentence_type = ts.get_type(\n",
    "    \"de.tudarmstadt.ukp.dkpro.core.api.segmentation.type.Sentence\"\n",
    ")"
   ]
  },
  {
   "cell_type": "code",
   "execution_count": null,
   "metadata": {},
   "outputs": [],
   "source": [
    "data = {}\n",
    "\n",
    "custom_overlay_chunks = cas.select(custom_overlay_type.name)\n",
    "for custom_overlay_chunk in custom_overlay_chunks:\n",
    "    data[custom_overlay_chunk.Tag] = custom_overlay_chunk.get_covered_text()"
   ]
  },
  {
   "cell_type": "code",
   "execution_count": null,
   "metadata": {},
   "outputs": [],
   "source": [
    "data"
   ]
  },
  {
   "cell_type": "code",
   "execution_count": null,
   "metadata": {},
   "outputs": [],
   "source": [
    "nlp = spacy.load(\"de_core_news_sm\")"
   ]
  },
  {
   "cell_type": "code",
   "execution_count": null,
   "metadata": {},
   "outputs": [],
   "source": [
    "# according to the spacy documentation this should, unfortunatly\n",
    "# the documentation has not been updated to spacy 3.x.x...\n",
    "# https://stackoverflow.com/questions/66790649/textcat-architecture-extra-fields-not-permitted\n",
    "# textcat = nlp.create_pipe('textcat', config={\"exclusive_classes\": False,\n",
    "# \"architecture\": 'simple_cnn'})"
   ]
  },
  {
   "cell_type": "code",
   "execution_count": null,
   "metadata": {},
   "outputs": [],
   "source": [
    "# new approach\n",
    "textcat = nlp.add_pipe(\"textcat\")"
   ]
  },
  {
   "cell_type": "code",
   "execution_count": null,
   "metadata": {},
   "outputs": [],
   "source": [
    "nlp.pipe_names"
   ]
  },
  {
   "cell_type": "code",
   "execution_count": null,
   "metadata": {},
   "outputs": [],
   "source": [
    "textcat.add_label(\"positiv\")\n",
    "textcat.add_label(\"negativ\")"
   ]
  },
  {
   "cell_type": "code",
   "execution_count": null,
   "metadata": {},
   "outputs": [],
   "source": [
    "pipe_exceptions = [\"textcat\"]\n",
    "other_pipes = [pipe for pipe in nlp.pipe_names if pipe not in pipe_exceptions]"
   ]
  },
  {
   "cell_type": "code",
   "execution_count": null,
   "metadata": {},
   "outputs": [],
   "source": [
    "# I also think that this should work without issues..\n",
    "with nlp.disable_pipes(*other_pipes):\n",
    "    optimizer = nlp.begin_training()"
   ]
  },
  {
   "cell_type": "code",
   "execution_count": null,
   "metadata": {},
   "outputs": [],
   "source": []
  }
 ],
 "metadata": {
  "kernelspec": {
   "display_name": "Python 3.10.6 ('moralization')",
   "language": "python",
   "name": "python3"
  },
  "language_info": {
   "codemirror_mode": {
    "name": "ipython",
    "version": 3
   },
   "file_extension": ".py",
   "mimetype": "text/x-python",
   "name": "python",
   "nbconvert_exporter": "python",
   "pygments_lexer": "ipython3",
   "version": "3.10.6"
  },
  "vscode": {
   "interpreter": {
    "hash": "206b6e1c37b5509acd96dbd9449245ce9632a6e2644564bceeab9a4a651ddaa0"
   }
  }
 },
 "nbformat": 4,
 "nbformat_minor": 2
}
