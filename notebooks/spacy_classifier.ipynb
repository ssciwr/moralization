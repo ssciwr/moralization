{
 "cells": [
  {
   "cell_type": "code",
   "execution_count": null,
   "metadata": {},
   "outputs": [],
   "source": [
    "import moralization\n",
    "import spacy"
   ]
  },
  {
   "cell_type": "code",
   "execution_count": null,
   "metadata": {},
   "outputs": [],
   "source": [
    "data_dict = moralization.InputOutput.get_input_dir(\"../../moralization_data/test_data\")"
   ]
  },
  {
   "cell_type": "code",
   "execution_count": null,
   "metadata": {},
   "outputs": [],
   "source": [
    "moralization.InputOutput.prepare_spacy_dat(\"../../moralization_data/test_data\")"
   ]
  },
  {
   "cell_type": "markdown",
   "metadata": {},
   "source": [
    "in /data/Training run to generate a config file from the base_config:\n",
    "\n",
    "`python -m spacy train config.cfg --output ./output --paths.train ./train.spacy --paths.dev ./dev.spacy`"
   ]
  },
  {
   "cell_type": "code",
   "execution_count": null,
   "metadata": {},
   "outputs": [],
   "source": [
    "from spacy.cli.train import train\n",
    "\n",
    "train(\n",
    "    \"../data/Training/config.cfg\",\n",
    "    output_path=\"../data/Training/output\",\n",
    "    overrides={\n",
    "        \"paths.train\": \"../data/Training/train.spacy\",\n",
    "        \"paths.dev\": \"../data/Training/dev.spacy\",\n",
    "    },\n",
    "    use_gpu=-1,\n",
    ")"
   ]
  },
  {
   "cell_type": "code",
   "execution_count": null,
   "metadata": {},
   "outputs": [],
   "source": [
    "from spacy.cli.evaluate import evaluate\n",
    "\n",
    "evaluate(\"../data/Training/output/model-best/\", \"../data/Training/dev.spacy\")"
   ]
  },
  {
   "cell_type": "code",
   "execution_count": null,
   "metadata": {},
   "outputs": [],
   "source": [
    "from spacy.tokens import DocBin\n",
    "from spacy.vocab import Vocab\n",
    "\n",
    "docbin = DocBin(Vocab()).from_disk(\"../data/Training/train.spacy\")"
   ]
  },
  {
   "cell_type": "code",
   "execution_count": null,
   "metadata": {},
   "outputs": [],
   "source": [
    "# how to load the model\n",
    "nlp = spacy.load(\"../data/Training/output/model-best/\")"
   ]
  },
  {
   "cell_type": "code",
   "execution_count": null,
   "metadata": {},
   "outputs": [],
   "source": []
  }
 ],
 "metadata": {
  "kernelspec": {
   "display_name": "Python 3.8.13 ('moralization')",
   "language": "python",
   "name": "python3"
  },
  "language_info": {
   "codemirror_mode": {
    "name": "ipython",
    "version": 3
   },
   "file_extension": ".py",
   "mimetype": "text/x-python",
   "name": "python",
   "nbconvert_exporter": "python",
   "pygments_lexer": "ipython3",
   "version": "3.9.13"
  },
  "vscode": {
   "interpreter": {
    "hash": "eecdbd9102a8a153b703175e0caf5270cf41b05f4ed4e7eba6bc686781fa17e0"
   }
  }
 },
 "nbformat": 4,
 "nbformat_minor": 2
}
